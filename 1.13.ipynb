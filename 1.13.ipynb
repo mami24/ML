{
  "cells": [
    {
      "cell_type": "markdown",
      "metadata": {
        "id": "view-in-github",
        "colab_type": "text"
      },
      "source": [
        "<a href=\"https://colab.research.google.com/github/mami24/ML/blob/main/1.13.ipynb\" target=\"_parent\"><img src=\"https://colab.research.google.com/assets/colab-badge.svg\" alt=\"Open In Colab\"/></a>"
      ]
    },
    {
      "cell_type": "code",
      "source": [
        "p_x = float(input())\n",
        "p_y = float(input())\n",
        "q_x = float(input())\n",
        "q_y = float(input())\n",
        "midpoint_x = float((p_x+q_x)/2)\n",
        "midpoint_y = float((p_y+q_y)/2)\n",
        "reflectionpoint_x =  float(q_x + (q_x-p_x))\n",
        "reflectionpoint_y = float(q_y + (q_y-p_y))\n",
        "print(midpoint_x)\n",
        "print(midpoint_y)\n",
        "print(reflectionpoint_x)\n",
        "print(reflectionpoint_y)"
      ],
      "metadata": {
        "id": "1OlrxWDmWOWj",
        "outputId": "3c9cf7ec-515b-4062-cd49-628d9f0a1606",
        "colab": {
          "base_uri": "https://localhost:8080/"
        }
      },
      "execution_count": 8,
      "outputs": [
        {
          "output_type": "stream",
          "name": "stdout",
          "text": [
            "4\n",
            "5\n",
            "1\n",
            "2\n",
            "2.5\n",
            "3.5\n",
            "-2.0\n",
            "-1.0\n"
          ]
        }
      ]
    }
  ],
  "metadata": {
    "colab": {
      "collapsed_sections": [],
      "name": "Welcome To Colaboratory",
      "toc_visible": true,
      "provenance": [],
      "include_colab_link": true
    },
    "kernelspec": {
      "display_name": "Python 3",
      "name": "python3"
    }
  },
  "nbformat": 4,
  "nbformat_minor": 0
}