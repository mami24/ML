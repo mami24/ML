{
  "cells": [
    {
      "cell_type": "markdown",
      "metadata": {
        "id": "view-in-github",
        "colab_type": "text"
      },
      "source": [
        "<a href=\"https://colab.research.google.com/github/mami24/ML/blob/main/1.8.ipynb\" target=\"_parent\"><img src=\"https://colab.research.google.com/assets/colab-badge.svg\" alt=\"Open In Colab\"/></a>"
      ]
    },
    {
      "cell_type": "code",
      "source": [
        "\n",
        "a1 = float(input())\n",
        "d1 = float(input())\n",
        "a2 = float(input())\n",
        "d2 = float(input())\n",
        "a3 = float(input())\n",
        "d3 = float(input())\n",
        "a4 = float(input())\n",
        "d4 = float(input())\n",
        "Length_of_one_lap =int(input())\n",
        "a= a1*d1+a2*d2+a3*d3+a4*d4\n",
        "c = a/int(Length_of_one_lap)\n",
        "print(\"{:.1f}\".format(c))"
      ],
      "metadata": {
        "colab": {
          "base_uri": "https://localhost:8080/"
        },
        "id": "u5TbU2qufyWw",
        "outputId": "8b1cd18b-55be-48e7-8ef7-47c46350947f"
      },
      "execution_count": null,
      "outputs": [
        {
          "output_type": "stream",
          "name": "stdout",
          "text": [
            "6\n",
            "420\n",
            "5.5\n",
            "240\n",
            "7\n",
            "300\n",
            "3.5\n",
            "180\n",
            "400\n",
            "16.4\n"
          ]
        }
      ]
    }
  ],
  "metadata": {
    "colab": {
      "collapsed_sections": [],
      "provenance": [],
      "include_colab_link": true
    },
    "kernelspec": {
      "display_name": "Python 3",
      "name": "python3"
    }
  },
  "nbformat": 4,
  "nbformat_minor": 0
}