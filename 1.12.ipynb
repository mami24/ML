{
  "cells": [
    {
      "cell_type": "markdown",
      "metadata": {
        "id": "view-in-github",
        "colab_type": "text"
      },
      "source": [
        "<a href=\"https://colab.research.google.com/github/mami24/ML/blob/main/1.12.ipynb\" target=\"_parent\"><img src=\"https://colab.research.google.com/assets/colab-badge.svg\" alt=\"Open In Colab\"/></a>"
      ]
    },
    {
      "cell_type": "code",
      "source": [
        "import math\n",
        "pi = math.pi\n",
        "radius = float(input())\n",
        "area_circle = float(pi*(radius**2))\n",
        "volume_circle = float((4/3)*pi*(radius**3))\n",
        "print(\"area is: \" + str(\"{:.2f}\".format(area_circle)))\n",
        "print(\"sphere volume is: \"+ str(\"{:.2f}\".format(volume_circle)))\n",
        "\n"
      ],
      "metadata": {
        "colab": {
          "base_uri": "https://localhost:8080/"
        },
        "id": "u5TbU2qufyWw",
        "outputId": "39ce50f6-44db-4ee7-9e0e-a838144ec7cf"
      },
      "execution_count": 52,
      "outputs": [
        {
          "output_type": "stream",
          "name": "stdout",
          "text": [
            "5\n",
            "area is: 78.54\n",
            "sphere volume is: 523.60\n"
          ]
        }
      ]
    }
  ],
  "metadata": {
    "colab": {
      "collapsed_sections": [],
      "name": "Welcome To Colaboratory",
      "provenance": [],
      "include_colab_link": true
    },
    "kernelspec": {
      "display_name": "Python 3",
      "name": "python3"
    }
  },
  "nbformat": 4,
  "nbformat_minor": 0
}