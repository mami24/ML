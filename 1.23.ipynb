{
  "cells": [
    {
      "cell_type": "markdown",
      "metadata": {
        "id": "view-in-github",
        "colab_type": "text"
      },
      "source": [
        "<a href=\"https://colab.research.google.com/github/mami24/ML/blob/main/1.23.ipynb\" target=\"_parent\"><img src=\"https://colab.research.google.com/assets/colab-badge.svg\" alt=\"Open In Colab\"/></a>"
      ]
    },
    {
      "cell_type": "code",
      "source": [
        "original_tuple = eval(input())          # *see below for explanation\n",
        "index, missing_number = eval(input())   # notice tuple matching\n",
        "\n",
        "lst = list(original_tuple)              # cast tuple to list so that you can change\n",
        "lst[index] = missing_number\n",
        "\n",
        "recovered_tuple = tuple(lst)            # cast list back to tuple again.\n",
        "\n",
        "print(recovered_tuple)"
      ],
      "metadata": {
        "id": "xrMHcLKHS0hX",
        "outputId": "7a93bb05-de2b-44fc-e3ec-e33cb2e23a9b",
        "colab": {
          "base_uri": "https://localhost:8080/"
        }
      },
      "execution_count": 1,
      "outputs": [
        {
          "output_type": "stream",
          "name": "stdout",
          "text": [
            "(1,2,3,\"?\",5)\n",
            "(3,4)\n",
            "(1, 2, 3, 4, 5)\n"
          ]
        }
      ]
    }
  ],
  "metadata": {
    "colab": {
      "collapsed_sections": [],
      "name": "Welcome To Colaboratory",
      "toc_visible": true,
      "provenance": [],
      "include_colab_link": true
    },
    "kernelspec": {
      "display_name": "Python 3",
      "name": "python3"
    }
  },
  "nbformat": 4,
  "nbformat_minor": 0
}