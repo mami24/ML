{
  "cells": [
    {
      "cell_type": "markdown",
      "metadata": {
        "id": "view-in-github",
        "colab_type": "text"
      },
      "source": [
        "<a href=\"https://colab.research.google.com/github/mami24/ML/blob/main/1.15.ipynb\" target=\"_parent\"><img src=\"https://colab.research.google.com/assets/colab-badge.svg\" alt=\"Open In Colab\"/></a>"
      ]
    },
    {
      "cell_type": "code",
      "source": [
        "import math\n",
        "x1 = float(input())\n",
        "y1 = float(input())\n",
        "r1 = float(input())\n",
        "x2 = float(input())\n",
        "y2 = float(input())\n",
        "r2 = float(input())\n",
        "distance_2 = ((x2-x1)**2)+ ((y2-y1)**2)\n",
        "line = math.sqrt(distance_2)\n",
        "bolted = line-(r1+r2)\n",
        "print(\"{:.2f}\".format(bolted))"
      ],
      "metadata": {
        "colab": {
          "base_uri": "https://localhost:8080/"
        },
        "id": "1OlrxWDmWOWj",
        "outputId": "55e4e294-a095-4880-e404-a20336ac16b5"
      },
      "execution_count": 17,
      "outputs": [
        {
          "output_type": "stream",
          "name": "stdout",
          "text": [
            "3\n",
            "3\n",
            "2\n",
            "10\n",
            "15\n",
            "5\n",
            "6.89\n"
          ]
        }
      ]
    }
  ],
  "metadata": {
    "colab": {
      "collapsed_sections": [],
      "name": "Welcome To Colaboratory",
      "toc_visible": true,
      "provenance": [],
      "include_colab_link": true
    },
    "kernelspec": {
      "display_name": "Python 3",
      "name": "python3"
    }
  },
  "nbformat": 4,
  "nbformat_minor": 0
}