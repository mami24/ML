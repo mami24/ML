{
  "cells": [
    {
      "cell_type": "markdown",
      "metadata": {
        "id": "view-in-github",
        "colab_type": "text"
      },
      "source": [
        "<a href=\"https://colab.research.google.com/github/mami24/ML/blob/main/exlab.ipynb\" target=\"_parent\"><img src=\"https://colab.research.google.com/assets/colab-badge.svg\" alt=\"Open In Colab\"/></a>"
      ]
    },
    {
      "cell_type": "code",
      "source": [
        "name = input()\n",
        "color = input()\n",
        "number = int(input())\n",
        "name1 =0\n",
        "color1=0\n",
        "number1=0\n",
        "if int(name[0]) ==7:\n",
        "  name1= 'Rose'\n",
        "elif int(name[0]) ==8:\n",
        "  name1= 'Tulip'\n",
        "else:\n",
        "  name1= 'Orchid'\n",
        "\n",
        "\n",
        "if int(color[-1]) in [0,1,2,3]:\n",
        "  color1= 'White'\n",
        "elif int(color[-1]) in [4,5,6]:\n",
        "  color1= 'Pink'\n",
        "elif int(color[-1]) in [7,8,9]:\n",
        "  color1= 'Red'\n",
        "\n",
        "if name1 == 'Rose' and number>100:\n",
        "  number1= 'Invalid'\n",
        "else:\n",
        "  number1= number\n",
        "if name1 == 'Tulip' and number>50:\n",
        "  number1= 'Invalid'\n",
        "else:\n",
        "  number1= number\n",
        "if name1 == 'Orchid' and number>30:\n",
        "  number1= 'Invalid'\n",
        "else:\n",
        "  number1= number\n",
        "\n",
        "\n",
        "\n",
        "\n",
        "if number1 == 'Invalid':\n",
        "  print(\"Invalid\")\n",
        "else:\n",
        "  print(name1+color1+str(number1))"
      ],
      "metadata": {
        "id": "rEC-CrtkoHPt",
        "outputId": "9633aa50-4fc4-45f5-a894-5b38fa417221",
        "colab": {
          "base_uri": "https://localhost:8080/"
        }
      },
      "execution_count": 12,
      "outputs": [
        {
          "output_type": "stream",
          "name": "stdout",
          "text": [
            "13\n",
            "301\n",
            "40\n",
            "Invalid\n"
          ]
        }
      ]
    }
  ],
  "metadata": {
    "colab": {
      "collapsed_sections": [],
      "name": "Welcome To Colaboratory",
      "toc_visible": true,
      "provenance": [],
      "include_colab_link": true
    },
    "kernelspec": {
      "display_name": "Python 3",
      "name": "python3"
    }
  },
  "nbformat": 4,
  "nbformat_minor": 0
}