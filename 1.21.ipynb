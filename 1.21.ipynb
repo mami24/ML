{
  "cells": [
    {
      "cell_type": "markdown",
      "metadata": {
        "id": "view-in-github",
        "colab_type": "text"
      },
      "source": [
        "<a href=\"https://colab.research.google.com/github/mami24/ML/blob/main/1.21.ipynb\" target=\"_parent\"><img src=\"https://colab.research.google.com/assets/colab-badge.svg\" alt=\"Open In Colab\"/></a>"
      ]
    },
    {
      "cell_type": "code",
      "source": [
        "grade1 = input()\n",
        "grade2 = input()\n",
        "grade3 = input()\n",
        "grade4 = input()\n",
        "grade5 = input()\n",
        "\n",
        "grades = (grade1,grade2,grade3,grade4,grade5)\n",
        "a = sorted(grades)\n",
        "print(a)\n",
        "discarding_low = a[1:]\n",
        "total_grade = int(discarding_low[0])+int(discarding_low[1])+int(discarding_low[2])+int(discarding_low[3])\n",
        "point = total_grade/40\n",
        "in_paper = point*5\n",
        "print(in_paper)"
      ],
      "metadata": {
        "colab": {
          "base_uri": "https://localhost:8080/"
        },
        "id": "of_3vGovgaIB",
        "outputId": "c173ca5f-0b1f-4b7d-b34f-457c1f26ccb4"
      },
      "execution_count": 37,
      "outputs": [
        {
          "output_type": "stream",
          "name": "stdout",
          "text": [
            "10\n",
            "5\n",
            "6\n",
            "3\n",
            "7\n",
            "['10', '3', '5', '6', '7']\n",
            "2.625\n"
          ]
        }
      ]
    },
    {
      "cell_type": "code",
      "source": [],
      "metadata": {
        "id": "lJd519I6gaPD"
      },
      "execution_count": null,
      "outputs": []
    }
  ],
  "metadata": {
    "colab": {
      "collapsed_sections": [],
      "name": "Welcome To Colaboratory",
      "toc_visible": true,
      "provenance": [],
      "include_colab_link": true
    },
    "kernelspec": {
      "display_name": "Python 3",
      "name": "python3"
    }
  },
  "nbformat": 4,
  "nbformat_minor": 0
}