{
  "cells": [
    {
      "cell_type": "markdown",
      "metadata": {
        "id": "view-in-github",
        "colab_type": "text"
      },
      "source": [
        "<a href=\"https://colab.research.google.com/github/mami24/ML/blob/main/whenColaboratory.ipynb\" target=\"_parent\"><img src=\"https://colab.research.google.com/assets/colab-badge.svg\" alt=\"Open In Colab\"/></a>"
      ]
    },
    {
      "cell_type": "code",
      "source": [
        "N = eval(input())\n",
        "b = len(N)\n",
        "i=0\n",
        "max1=0\n",
        "maxmax3=0\n",
        "while i<b:\n",
        "  if N[i][1]>max1:\n",
        "    max1=N[i][1]\n",
        "  else:\n",
        "    max1 =max1\n",
        "    while i<b:\n",
        "  if N[i][1]>max2:\n",
        "    max2=N[i][1]\n",
        "  else:\n",
        "    max2 =max2\n",
        "while i<b:\n",
        "  if N[i][1]>max3:\n",
        "    max3=N[i][1]\n",
        "  else:\n",
        "    max3 =max3\n",
        "    \n",
        "\n",
        "\n",
        "  i+=1\n",
        "\n",
        "\n",
        "\n",
        "print(max1)"
      ],
      "metadata": {
        "id": "U7LSVPakuaKQ",
        "outputId": "de5f8d9c-4be8-4cde-9494-b2a450997ef8",
        "colab": {
          "base_uri": "https://localhost:8080/"
        }
      },
      "execution_count": 28,
      "outputs": [
        {
          "output_type": "stream",
          "name": "stdout",
          "text": [
            "[(\"jim\", 11), (\"pam\", 9), (\"dwight\", 12), (\"oscar\", 2), (\"micheal\", 17), (\"angela\", 3), (\"kevin\", 1)]\n",
            "17\n"
          ]
        }
      ]
    }
  ],
  "metadata": {
    "colab": {
      "collapsed_sections": [],
      "name": "Welcome To Colaboratory",
      "toc_visible": true,
      "provenance": [],
      "include_colab_link": true
    },
    "kernelspec": {
      "display_name": "Python 3",
      "name": "python3"
    }
  },
  "nbformat": 4,
  "nbformat_minor": 0
}