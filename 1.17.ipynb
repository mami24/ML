{
  "cells": [
    {
      "cell_type": "markdown",
      "metadata": {
        "id": "view-in-github",
        "colab_type": "text"
      },
      "source": [
        "<a href=\"https://colab.research.google.com/github/mami24/ML/blob/main/1.17.ipynb\" target=\"_parent\"><img src=\"https://colab.research.google.com/assets/colab-badge.svg\" alt=\"Open In Colab\"/></a>"
      ]
    },
    {
      "cell_type": "code",
      "source": [
        "f1 = float(input())\n",
        "f2 = float(input())\n",
        "f3 = float(input())\n",
        "f4 = float(input())\n",
        "f5 = float(input())\n",
        "d4 = float(input())\n",
        "d5 = float(input())\n",
        "length = float(input())\n",
        "width = float(input())\n",
        "height = float(input())\n",
        "h4 = height-d4\n",
        "h5 = height-d5\n",
        "t1 = (length*width*h4)/(f1+f2+f3)\n",
        "t2 = (length*width*(h5-h4))/(f1+f2+f3-f4)\n",
        "t3 = (length*width*(d5))/(f1+f2+f3-f4-f5)\n",
        "print(\"Time to fill the pool is \"+\"{:.2f}\".format(t1+t2+t3)+\" mins \")"
      ],
      "metadata": {
        "colab": {
          "base_uri": "https://localhost:8080/"
        },
        "id": "of_3vGovgaIB",
        "outputId": "ab0ca61e-bdd2-45f0-eb60-88189e5b6012"
      },
      "execution_count": 13,
      "outputs": [
        {
          "output_type": "stream",
          "name": "stdout",
          "text": [
            "2\n",
            "2\n",
            "2\n",
            "1\n",
            "1\n",
            "20\n",
            "10\n",
            "1\n",
            "1\n",
            "20\n",
            "Time to fill the pool is 4.50 mins \n"
          ]
        }
      ]
    },
    {
      "cell_type": "code",
      "source": [],
      "metadata": {
        "id": "lJd519I6gaPD"
      },
      "execution_count": null,
      "outputs": []
    }
  ],
  "metadata": {
    "colab": {
      "collapsed_sections": [],
      "name": "Welcome To Colaboratory",
      "toc_visible": true,
      "provenance": [],
      "include_colab_link": true
    },
    "kernelspec": {
      "display_name": "Python 3",
      "name": "python3"
    }
  },
  "nbformat": 4,
  "nbformat_minor": 0
}