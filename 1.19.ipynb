{
  "cells": [
    {
      "cell_type": "markdown",
      "metadata": {
        "id": "view-in-github",
        "colab_type": "text"
      },
      "source": [
        "<a href=\"https://colab.research.google.com/github/mami24/ML/blob/main/1.19.ipynb\" target=\"_parent\"><img src=\"https://colab.research.google.com/assets/colab-badge.svg\" alt=\"Open In Colab\"/></a>"
      ]
    },
    {
      "cell_type": "code",
      "source": [
        "x1 = int(input())\n",
        "y1 = int(input())\n",
        "x2 = int(input())\n",
        "y2 = int(input())\n",
        "x3 = int(input())\n",
        "y3 = int(input())\n",
        "\n",
        "\n",
        "p1 =( x1 , y1 )\n",
        "p2 =( x2 , y2 )\n",
        "p3 =( x3 , y3 )\n",
        "\n",
        "added_vector = ( p1[0]+p2[0] ,p1[1]+p2[1])\n",
        "last_vector = (p3[0]-added_vector[0] ,p3[1]-added_vector[1])\n",
        "print(added_vector)\n",
        "print(last_vector)"
      ],
      "metadata": {
        "colab": {
          "base_uri": "https://localhost:8080/"
        },
        "id": "of_3vGovgaIB",
        "outputId": "243b8842-857d-4008-9fe9-1f76c4165185"
      },
      "execution_count": 22,
      "outputs": [
        {
          "output_type": "stream",
          "name": "stdout",
          "text": [
            "1\n",
            "0\n",
            "2\n",
            "3\n",
            "1\n",
            "4\n",
            "(3, 3)\n",
            "(-2, 1)\n"
          ]
        }
      ]
    },
    {
      "cell_type": "code",
      "source": [],
      "metadata": {
        "id": "lJd519I6gaPD"
      },
      "execution_count": null,
      "outputs": []
    }
  ],
  "metadata": {
    "colab": {
      "collapsed_sections": [],
      "name": "Welcome To Colaboratory",
      "toc_visible": true,
      "provenance": [],
      "include_colab_link": true
    },
    "kernelspec": {
      "display_name": "Python 3",
      "name": "python3"
    }
  },
  "nbformat": 4,
  "nbformat_minor": 0
}